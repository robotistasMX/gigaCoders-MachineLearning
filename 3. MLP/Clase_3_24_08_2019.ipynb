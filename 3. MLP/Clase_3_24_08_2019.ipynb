{
  "nbformat": 4,
  "nbformat_minor": 0,
  "metadata": {
    "colab": {
      "name": "Clase 3 24-08-2019.ipynb",
      "version": "0.3.2",
      "provenance": []
    },
    "kernelspec": {
      "name": "python3",
      "display_name": "Python 3"
    }
  },
  "cells": [
    {
      "cell_type": "markdown",
      "metadata": {
        "id": "KeArNST6-I1c",
        "colab_type": "text"
      },
      "source": [
        "# Giga coders\n",
        "## Machine learning\n",
        "\n",
        "24 Agostos 2019\n"
      ]
    },
    {
      "cell_type": "markdown",
      "metadata": {
        "id": "3FaKt7eH-ykB",
        "colab_type": "text"
      },
      "source": [
        "## Multilayer Perceptron (MLP)"
      ]
    },
    {
      "cell_type": "markdown",
      "metadata": {
        "id": "CC5evRAw_DLv",
        "colab_type": "text"
      },
      "source": [
        "A multilayer perceptron (MLP) is a class of feedforward artificial neural network. An MLP consists of at least three layers of nodes: an input layer, a hidden layer and an output layer. Except for the input nodes, each node is a neuron that uses a nonlinear activation function. MLP utilizes a supervised learning technique called backpropagation for training.\n",
        "\n",
        "Multilayer perceptrons are sometimes colloquially referred to as \"vanilla\" neural networks, especially when they have a single hidden layer\n",
        "\n",
        "![alt text](https://images.deepai.org/glossary-terms/49157de013394ab7a36022759a55b6aa/multipercep.jpg)\n",
        "\n",
        "![alt text](https://miro.medium.com/max/958/1*QVIyc5HnGDWTNX3m-nIm9w.png)\n"
      ]
    },
    {
      "cell_type": "markdown",
      "metadata": {
        "id": "xr0j5F-qAHw7",
        "colab_type": "text"
      },
      "source": [
        "## XOR Problem\n",
        "![alt text](https://www.researchgate.net/profile/A_Zahedi/publication/321687478/figure/fig2/AS:602499278979075@1520658430966/a-circuit-symbol-and-b-accuracy-table-of-the-XOR-logic-gate.png)\n"
      ]
    },
    {
      "cell_type": "code",
      "metadata": {
        "id": "zwBZph0I9rwr",
        "colab_type": "code",
        "outputId": "bc0d447c-6cd5-4912-987d-4dab0b41d84b",
        "colab": {
          "base_uri": "https://localhost:8080/",
          "height": 34
        }
      },
      "source": [
        "\n",
        "import tensorflow as tf\n",
        "import cv2\n",
        "import numpy as np\n",
        "from numpy import array, dot, random\n",
        "import pandas as pd\n",
        "import matplotlib as mpl\n",
        "import matplotlib.pyplot as plt\n",
        "from random import choice\n",
        "%matplotlib inline\n",
        "plt.rcParams['figure.figsize'] = (13.0, 9.0)\n",
        "print(\"alles ist gut\")\n"
      ],
      "execution_count": 0,
      "outputs": [
        {
          "output_type": "stream",
          "text": [
            "alles ist gut\n"
          ],
          "name": "stdout"
        }
      ]
    },
    {
      "cell_type": "code",
      "metadata": {
        "id": "CxrW7EG1_cZR",
        "colab_type": "code",
        "outputId": "faa9be33-aa98-4035-d8f9-d6d832d75d3d",
        "colab": {
          "base_uri": "https://localhost:8080/",
          "height": 187
        }
      },
      "source": [
        "entradas = np.array([[0, 0], [1, 0], [0, 1], [1, 1]], np.float32)\n",
        "salidas = np.array([0, 1, 1, 0], np.float32)\n",
        "salidas = np.reshape(salidas, [4,1])\n",
        "print(\"Entradas....\")\n",
        "print(entradas)\n",
        "print(\"Salidas....\")\n",
        "print(salidas)"
      ],
      "execution_count": 0,
      "outputs": [
        {
          "output_type": "stream",
          "text": [
            "Entradas....\n",
            "[[0. 0.]\n",
            " [1. 0.]\n",
            " [0. 1.]\n",
            " [1. 1.]]\n",
            "Salidas....\n",
            "[[0.]\n",
            " [1.]\n",
            " [1.]\n",
            " [0.]]\n"
          ],
          "name": "stdout"
        }
      ]
    },
    {
      "cell_type": "code",
      "metadata": {
        "id": "5xHj4EFJ_1Ed",
        "colab_type": "code",
        "outputId": "e7f42851-3d42-417f-f66f-09e745cdec37",
        "colab": {
          "base_uri": "https://localhost:8080/",
          "height": 541
        }
      },
      "source": [
        "plot_x = np.array([np.min(entradas[:, 0] - 0.2), np.max(entradas[:, 1]+0.2)])\n",
        "\n",
        "\n",
        "plt.scatter(entradas[:, 0], entradas[:, 1], c=salidas.ravel(), s=100, cmap='viridis')\n",
        "plt.xlim([-0.1, 1.1]); plt.ylim([-0.1, 1.1]);\n",
        "plt.show()"
      ],
      "execution_count": 0,
      "outputs": [
        {
          "output_type": "display_data",
          "data": {
            "image/png": "[encoded data removed]",
            "text/plain": [
              "<Figure size 936x648 with 1 Axes>"
            ]
          },
          "metadata": {
            "tags": []
          }
        }
      ]
    },
    {
      "cell_type": "markdown",
      "metadata": {
        "id": "dPp_0eBFB56y",
        "colab_type": "text"
      },
      "source": [
        "![alt text](https://nasirml.files.wordpress.com/2017/12/xor_2.png?w=483&h=231)\n",
        "\n",
        "![alt text](https://pns2018.github.io/images/neuron.png)\n",
        "\n"
      ]
    },
    {
      "cell_type": "markdown",
      "metadata": {
        "id": "k2dbB7HdDm3j",
        "colab_type": "text"
      },
      "source": [
        "#### h = g((W1*x)+b1)\n",
        "#### yHat = f((W2*h)+b2)\n",
        "#### yHat =  f((W2* g((W1*x)+b1)) + b2)"
      ]
    },
    {
      "cell_type": "code",
      "metadata": {
        "id": "EUy95NYrFqiT",
        "colab_type": "code",
        "colab": {}
      },
      "source": [
        "def multi_layer_perceptron_xor(x, weights, biases):\n",
        "  hidden_layer1 = tf.add(tf.matmul(x, weights['w_h1']), biases['b_h1'])\n",
        "  hidden_layer1 = tf.nn.sigmoid(hidden_layer1)\n",
        "  out_layer = tf.add(tf.matmul(hidden_layer1, weights['w_out']), biases['b_out'])\n",
        " \n",
        "  return out_layer"
      ],
      "execution_count": 0,
      "outputs": []
    },
    {
      "cell_type": "code",
      "metadata": {
        "id": "y-qlgzzZGA9_",
        "colab_type": "code",
        "colab": {}
      },
      "source": [
        "num_input = 2\n",
        "num_hidden1 = 2\n",
        "num_output = 1\n",
        "num_inter = 100000\n",
        "display_step = int(num_inter / 10)\n",
        "learning_rate = 0.01"
      ],
      "execution_count": 0,
      "outputs": []
    },
    {
      "cell_type": "code",
      "metadata": {
        "id": "ZcE49ibUGdwx",
        "colab_type": "code",
        "colab": {}
      },
      "source": [
        "X = tf.placeholder(tf.float32, shape=[4, num_input])\n",
        "Y = tf.placeholder(tf.float32, shape=[4, num_output])"
      ],
      "execution_count": 0,
      "outputs": []
    },
    {
      "cell_type": "code",
      "metadata": {
        "id": "p4g363QlFyAe",
        "colab_type": "code",
        "colab": {}
      },
      "source": [
        "weights = {\n",
        " 'w_h1' : tf.Variable(tf.random_normal([num_input, num_hidden1])),\n",
        " 'w_out': tf.Variable(tf.random_normal([num_hidden1, num_output]))\n",
        "}\n",
        " \n",
        "biases = {\n",
        " 'b_h1' : tf.Variable(tf.zeros([num_hidden1])),\n",
        " 'b_out': tf.Variable(tf.zeros([num_output]))\n",
        "}"
      ],
      "execution_count": 0,
      "outputs": []
    },
    {
      "cell_type": "code",
      "metadata": {
        "id": "KRP5t2eAGVFd",
        "colab_type": "code",
        "outputId": "933c8c5d-e171-4a32-df0b-412d38a51351",
        "colab": {
          "base_uri": "https://localhost:8080/",
          "height": 105
        }
      },
      "source": [
        "model = multi_layer_perceptron_xor(X, weights, biases)\n",
        "loss_func = tf.reduce_sum(tf.nn.sigmoid_cross_entropy_with_logits(logits=model, labels=Y))\n",
        "optimizer = tf.train.GradientDescentOptimizer(learning_rate=learning_rate).minimize(loss_func)\n"
      ],
      "execution_count": 0,
      "outputs": [
        {
          "output_type": "stream",
          "text": [
            "WARNING: Logging before flag parsing goes to stderr.\n",
            "W0824 04:35:29.563145 140416269395840 deprecation.py:323] From /usr/local/lib/python3.6/dist-packages/tensorflow/python/ops/nn_impl.py:180: add_dispatch_support.<locals>.wrapper (from tensorflow.python.ops.array_ops) is deprecated and will be removed in a future version.\n",
            "Instructions for updating:\n",
            "Use tf.where in 2.0, which has the same broadcast rule as np.where\n"
          ],
          "name": "stderr"
        }
      ]
    },
    {
      "cell_type": "code",
      "metadata": {
        "id": "AaZGFo-QGsMF",
        "colab_type": "code",
        "outputId": "be3322cd-e212-4092-9e43-d7a57a2ab86f",
        "colab": {
          "base_uri": "https://localhost:8080/",
          "height": 187
        }
      },
      "source": [
        "sess = tf.Session()\n",
        "init = tf.global_variables_initializer()\n",
        "sess.run(init)\n",
        "\n",
        "for k in range(num_inter):\n",
        "    tmp_cost, _ = sess.run([loss_func, optimizer], feed_dict={X: entradas, Y: salidas})\n",
        "    if k % display_step == 0:\n",
        "        #print('output: ', sess.run(model, feed_dict={X:x}))\n",
        "        print('loss= ' + \"{:.5f}\".format(tmp_cost))\n",
        "\n",
        "# separates the input space\n",
        "W = np.squeeze(sess.run(weights['w_h1']))   # 2x2\n",
        "b = np.squeeze(sess.run(biases['b_h1']))    # 2,\n",
        "\n",
        "\n",
        "\n",
        "sess.close()"
      ],
      "execution_count": 0,
      "outputs": [
        {
          "output_type": "stream",
          "text": [
            "loss= 2.77761\n",
            "loss= 1.87083\n",
            "loss= 0.13756\n",
            "loss= 0.05858\n",
            "loss= 0.03668\n",
            "loss= 0.02658\n",
            "loss= 0.02080\n",
            "loss= 0.01706\n",
            "loss= 0.01445\n",
            "loss= 0.01253\n"
          ],
          "name": "stdout"
        }
      ]
    },
    {
      "cell_type": "code",
      "metadata": {
        "id": "vuNDSzhMHcs5",
        "colab_type": "code",
        "outputId": "1f20e986-366b-4577-f4a5-fe510b0e2147",
        "colab": {
          "base_uri": "https://localhost:8080/",
          "height": 541
        }
      },
      "source": [
        "\n",
        "plot_x = np.array([np.min(entradas[:, 0] - 0.2), np.max(entradas[:, 1]+0.2)])\n",
        "plot_y = (-1 * (W[0,0] * plot_x + b[0]))/W[1,0]\n",
        "plot_y2 = (-1 * (W[0,1] * plot_x + b[1]))/W[1,1]\n",
        "\n",
        " \n",
        "plt.scatter(entradas[:, 0], entradas[:, 1], c=salidas.ravel(), s=100, cmap='viridis')\n",
        "plt.plot(plot_x, plot_y, color='k', linewidth=2)\n",
        "plt.plot(plot_x, plot_y2, color='k', linewidth=2)\n",
        "plt.xlim([-0.1, 1.1]); plt.ylim([-0.1, 1.1]);\n",
        "plt.show()\n"
      ],
      "execution_count": 0,
      "outputs": [
        {
          "output_type": "display_data",
          "data": {
            "image/png": "[encoded data removed]",
            "text/plain": [
              "<Figure size 936x648 with 1 Axes>"
            ]
          },
          "metadata": {
            "tags": []
          }
        }
      ]
    }
  ]
}