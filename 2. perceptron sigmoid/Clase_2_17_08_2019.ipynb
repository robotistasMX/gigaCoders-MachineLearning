{
  "nbformat": 4,
  "nbformat_minor": 0,
  "metadata": {
    "colab": {
      "name": "Clase 2. 17_08_2019.ipynb",
      "version": "0.3.2",
      "provenance": [],
      "collapsed_sections": []
    },
    "kernelspec": {
      "name": "python3",
      "display_name": "Python 3"
    }
  },
  "cells": [
    {
      "cell_type": "markdown",
      "metadata": {
        "id": "o-43rv2C2TiA",
        "colab_type": "text"
      },
      "source": [
        "# Giga coders\n",
        "## Machine learning\n",
        "\n",
        "17 Agostos 2019\n"
      ]
    },
    {
      "cell_type": "markdown",
      "metadata": {
        "id": "7EhH-8_s8nVI",
        "colab_type": "text"
      },
      "source": [
        "## Hello  TensorFlow"
      ]
    },
    {
      "cell_type": "code",
      "metadata": {
        "id": "7udBSUcZ1-3N",
        "colab_type": "code",
        "outputId": "5f462643-4ee5-4d63-e808-1fdd1cdf6c85",
        "colab": {
          "base_uri": "https://localhost:8080/",
          "height": 34
        }
      },
      "source": [
        "import tensorflow as tf\n",
        "#tensorflow\n",
        "a2 = tf.constant(5,tf.float32)\n",
        "b2 = tf.constant(6,tf.float32)\n",
        "\n",
        "result=tf.multiply(a2,b2)\n",
        "\n",
        "with tf.Session() as sess:\n",
        "  init = tf.global_variables_initializer()\n",
        "  sess.run(init)\n",
        "  r=sess.run(result)\n",
        "  print(r)"
      ],
      "execution_count": 401,
      "outputs": [
        {
          "output_type": "stream",
          "text": [
            "30.0\n"
          ],
          "name": "stdout"
        }
      ]
    },
    {
      "cell_type": "code",
      "metadata": {
        "id": "NZ5-7NFG8kBI",
        "colab_type": "code",
        "outputId": "326be709-ec52-426d-9e50-21f476088589",
        "colab": {
          "base_uri": "https://localhost:8080/",
          "height": 34
        }
      },
      "source": [
        "n = tf.placeholder(tf.float32)\n",
        "a2 = tf.constant(5,tf.float32)\n",
        "b2 = tf.constant(6,tf.float32)\n",
        "\n",
        "result=tf.multiply(a2,b2)\n",
        "result=tf.multiply(result,n)\n",
        "\n",
        "with tf.Session() as sess:\n",
        "  init = tf.global_variables_initializer()\n",
        "  sess.run(init)\n",
        "  r=sess.run(result, feed_dict={n: 2})\n",
        "  print(r)"
      ],
      "execution_count": 402,
      "outputs": [
        {
          "output_type": "stream",
          "text": [
            "60.0\n"
          ],
          "name": "stdout"
        }
      ]
    },
    {
      "cell_type": "code",
      "metadata": {
        "id": "h1PNeZkDDB7A",
        "colab_type": "code",
        "colab": {
          "base_uri": "https://localhost:8080/",
          "height": 34
        },
        "outputId": "149de07e-49d2-4c39-9209-320213c54c3e"
      },
      "source": [
        "m = tf.Variable(2.0,tf.float32)\n",
        "n = tf.Variable(1.0,tf.float32)\n",
        "\n",
        "num= m + n\n",
        "step = tf.group(m.assign(num),n.assign(num))\n",
        "\n",
        "init = tf.global_variables_initializer()\n",
        "with tf.Session() as sess:\n",
        "  sess.run(init)\n",
        "  for x in range(0,3):\n",
        "    sess.run(step)\n",
        "  print(sess.run(m))"
      ],
      "execution_count": 403,
      "outputs": [
        {
          "output_type": "stream",
          "text": [
            "12.0\n"
          ],
          "name": "stdout"
        }
      ]
    },
    {
      "cell_type": "code",
      "metadata": {
        "id": "SMJ_C6CvA6JF",
        "colab_type": "code",
        "outputId": "17b5c22c-ab04-41cd-fbf0-ca1949e073af",
        "colab": {
          "base_uri": "https://localhost:8080/",
          "height": 391
        }
      },
      "source": [
        "test = tf.Variable(0.0,tf.float32)\n",
        "test2=1\n",
        "print(test)\n",
        "print(test2)\n",
        "\n",
        "num2= test2 + 1\n",
        "num = test +  1\n",
        "step = test.assign(num)\n",
        "\n",
        "init = tf.global_variables_initializer()\n",
        "with tf.Session() as sess:\n",
        "  sess.run(init)\n",
        "  for x in range(0,20):\n",
        "    r=sess.run(step)\n",
        "    print(r)"
      ],
      "execution_count": 404,
      "outputs": [
        {
          "output_type": "stream",
          "text": [
            "<tf.Variable 'Variable_206:0' shape=() dtype=float32_ref>\n",
            "1\n",
            "1.0\n",
            "2.0\n",
            "3.0\n",
            "4.0\n",
            "5.0\n",
            "6.0\n",
            "7.0\n",
            "8.0\n",
            "9.0\n",
            "10.0\n",
            "11.0\n",
            "12.0\n",
            "13.0\n",
            "14.0\n",
            "15.0\n",
            "16.0\n",
            "17.0\n",
            "18.0\n",
            "19.0\n",
            "20.0\n"
          ],
          "name": "stdout"
        }
      ]
    },
    {
      "cell_type": "markdown",
      "metadata": {
        "id": "WGyIW8922vUX",
        "colab_type": "text"
      },
      "source": [
        "## Perceptrón hardlim\n",
        "![alt text](https://miro.medium.com/max/700/1*lJUC67L1oFBgwmFK2Sii7g.png)\n",
        "\n",
        "### Problemática \n",
        "\" Small change in (W.X + b) i.e. weights and biases cause the output of the perceptron to flip from 0 to1 and vice versa which changes the behavior of the network very randomly. So, the slowness of learning is lost and hence the network can’t generalize a solution. \"\n",
        "\n"
      ]
    },
    {
      "cell_type": "markdown",
      "metadata": {
        "id": "-kEaTGjo3bhk",
        "colab_type": "text"
      },
      "source": [
        "## Sigmoid neuron\n",
        "\n",
        "![alt text](https://miro.medium.com/max/700/1*PIgLZb1qqXzLSqyLy-qj3w.png)\n",
        "\n",
        "![alt text](https://miro.medium.com/max/700/1*Qw2ZMPNamS4jX8n726kZ-A.png)\n",
        "\n",
        "![alt text](https://miro.medium.com/max/700/1*cD71DYr1YfhotK5cYfHvXg.png)\n",
        "\n",
        "![alt text](https://miro.medium.com/max/700/1*AtloL_0v3a7JnqL2Esj5PQ.png)"
      ]
    },
    {
      "cell_type": "code",
      "metadata": {
        "id": "ZzLIMPch2Bbf",
        "colab_type": "code",
        "outputId": "8e7e602f-dcc2-431f-af13-a6f18f79c3bd",
        "colab": {
          "base_uri": "https://localhost:8080/",
          "height": 34
        }
      },
      "source": [
        "\n",
        "import tensorflow as tf\n",
        "import cv2\n",
        "import numpy as np\n",
        "from numpy import array, dot, random\n",
        "import pandas\n",
        "import matplotlib as mpl\n",
        "import matplotlib.pyplot as plt\n",
        "from random import choice\n",
        "%matplotlib inline\n",
        "plt.rcParams['figure.figsize'] = (13.0, 9.0)\n",
        "print(\"alles ist gut\")\n"
      ],
      "execution_count": 405,
      "outputs": [
        {
          "output_type": "stream",
          "text": [
            "alles ist gut\n"
          ],
          "name": "stdout"
        }
      ]
    },
    {
      "cell_type": "code",
      "metadata": {
        "id": "z0F6EMfBPDrU",
        "colab_type": "code",
        "colab": {}
      },
      "source": [
        "NUM_FEATURES = 2\n",
        "NUM_ITER = 1000\n",
        "learning_rate = 0.01"
      ],
      "execution_count": 0,
      "outputs": []
    },
    {
      "cell_type": "code",
      "metadata": {
        "id": "4VDOOrcFMdxE",
        "colab_type": "code",
        "outputId": "84b62098-d088-43dd-8c3d-e4b918934fd8",
        "colab": {
          "base_uri": "https://localhost:8080/",
          "height": 187
        }
      },
      "source": [
        "entradas = np.array([[0, 0], [1, 0], [1, 1], [0, 1]], np.float32)\n",
        "salidas = np.array([0, 1, 1, 1], np.float32)\n",
        "salidas = np.reshape(salidas, [4,1])\n",
        "print(\"Entradas....\")\n",
        "print(entradas)\n",
        "print(\"Salidas....\")\n",
        "print(salidas)"
      ],
      "execution_count": 407,
      "outputs": [
        {
          "output_type": "stream",
          "text": [
            "Entradas....\n",
            "[[0. 0.]\n",
            " [1. 0.]\n",
            " [1. 1.]\n",
            " [0. 1.]]\n",
            "Salidas....\n",
            "[[0.]\n",
            " [1.]\n",
            " [1.]\n",
            " [1.]]\n"
          ],
          "name": "stdout"
        }
      ]
    },
    {
      "cell_type": "code",
      "metadata": {
        "id": "AwqyKWNZNVQr",
        "colab_type": "code",
        "colab": {}
      },
      "source": [
        "X = tf.placeholder(tf.float32, shape=[4, 2])\n",
        "Y = tf.placeholder(tf.float32, shape=[4, 1])\n"
      ],
      "execution_count": 0,
      "outputs": []
    },
    {
      "cell_type": "markdown",
      "metadata": {
        "id": "PlPkDmE_OkDL",
        "colab_type": "text"
      },
      "source": [
        "Placeholder: https://www.tensorflow.org/api_docs/python/tf/placeholder\n"
      ]
    },
    {
      "cell_type": "code",
      "metadata": {
        "id": "ZphgNdezOyb1",
        "colab_type": "code",
        "outputId": "0300cc48-1ab8-4571-c42f-46104bf117b2",
        "colab": {
          "base_uri": "https://localhost:8080/",
          "height": 85
        }
      },
      "source": [
        "W = tf.Variable(tf.zeros([NUM_FEATURES, 1]), tf.float32)\n",
        "B = tf.Variable(tf.zeros([1, 1]), tf.float32)\n",
        "\n",
        "print(\"Pesos...\")\n",
        "print(W)\n",
        "print(\"BIAS...\")\n",
        "print(B)\n",
        "\n",
        "#init_op = tf.initialize_all_variables()\n",
        "#with tf.Session() as sess:\n",
        "    #sess.run(init_op) \n",
        "    #print (sess.run(W))\n"
      ],
      "execution_count": 409,
      "outputs": [
        {
          "output_type": "stream",
          "text": [
            "Pesos...\n",
            "<tf.Variable 'Variable_207:0' shape=(2, 1) dtype=float32_ref>\n",
            "BIAS...\n",
            "<tf.Variable 'Variable_208:0' shape=(1, 1) dtype=float32_ref>\n"
          ],
          "name": "stdout"
        }
      ]
    },
    {
      "cell_type": "markdown",
      "metadata": {
        "id": "jnSeZQeYP9AA",
        "colab_type": "text"
      },
      "source": [
        "Variable: https://www.tensorflow.org/api_docs/python/tf/Variable"
      ]
    },
    {
      "cell_type": "code",
      "metadata": {
        "id": "d3UGPSJCS9rd",
        "colab_type": "code",
        "colab": {}
      },
      "source": [
        "#y^ = sigmoid(SUM(Xi*Wi)+b)\n",
        "yHat = tf.sigmoid( tf.add(tf.matmul(X, W), B) ) \n",
        "#error...\n",
        "err = Y - yHat\n",
        "#error Bias and weights....\n",
        "deltaW = tf.matmul(tf.transpose(X), err )\n",
        "deltaB = tf.reduce_sum(err, 0) \n",
        "W_ = W + learning_rate * deltaW\n",
        "B_ = B + learning_rate * deltaB\n",
        "\n",
        "step = tf.group(W.assign(W_), B.assign(B_)) \n",
        "\n",
        " \n"
      ],
      "execution_count": 0,
      "outputs": []
    },
    {
      "cell_type": "code",
      "metadata": {
        "id": "QDAGXHFdvelZ",
        "colab_type": "code",
        "colab": {}
      },
      "source": [
        "#tf.reset_default_graph()\n",
        "#tf.get_default_graph().get_operations()"
      ],
      "execution_count": 0,
      "outputs": []
    },
    {
      "cell_type": "code",
      "metadata": {
        "id": "-60zcEBPkZKt",
        "colab_type": "code",
        "colab": {}
      },
      "source": [
        "\n",
        "with tf.Session() as sess: \n",
        "  init = tf.global_variables_initializer()\n",
        "  sess.run(init)\n",
        "\n",
        "  for k in range(NUM_ITER):\n",
        "    sess.run([step], feed_dict={X: entradas, Y: salidas})\n",
        "    \n",
        "  W = np.squeeze(sess.run(W))\n",
        "  b = np.squeeze(sess.run(B))\n",
        "\n"
      ],
      "execution_count": 0,
      "outputs": []
    },
    {
      "cell_type": "code",
      "metadata": {
        "id": "v0SHSKG3wB5f",
        "colab_type": "code",
        "outputId": "ed88c67b-3b26-43ed-cc38-9fda61a93f52",
        "colab": {
          "base_uri": "https://localhost:8080/",
          "height": 592
        }
      },
      "source": [
        "\n",
        "plot_x = np.array([np.min(entradas[:, 0] - 0.2), np.max(entradas[:, 1]+0.2)])\n",
        "plot_y = (-1 * (W[0] * plot_x + b))/W[1]\n",
        "\n",
        " \n",
        "print('W: ' + str(W))\n",
        "print('b: ' + str(b))\n",
        "print('plot_y: '+ str(plot_y))\n",
        " \n",
        "plt.scatter(entradas[:, 0], entradas[:, 1], c=salidas.ravel(), s=100, cmap='viridis')\n",
        "plt.plot(plot_x, plot_y, color='c', linewidth=2)\n",
        "plt.xlim([-0.1, 1.1]); plt.ylim([-0.1, 1.1]);\n",
        "plt.show()\n"
      ],
      "execution_count": 413,
      "outputs": [
        {
          "output_type": "stream",
          "text": [
            "W: [2.4979842 2.4979842]\n",
            "b: -0.5824846\n",
            "plot_y: [ 0.43318185 -0.9668181 ]\n"
          ],
          "name": "stdout"
        },
        {
          "output_type": "display_data",
          "data": {
            "image/png": "[encoded data removed]",
            "text/plain": [
              "<Figure size 936x648 with 1 Axes>"
            ]
          },
          "metadata": {
            "tags": []
          }
        }
      ]
    }
  ]
}