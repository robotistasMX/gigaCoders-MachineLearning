{
  "nbformat": 4,
  "nbformat_minor": 0,
  "metadata": {
    "colab": {
      "name": "Clase 8 - 6/11/2019.ipynb",
      "provenance": [],
      "collapsed_sections": []
    },
    "kernelspec": {
      "name": "python3",
      "display_name": "Python 3"
    }
  },
  "cells": [
    {
      "cell_type": "markdown",
      "metadata": {
        "id": "l1MqjZNbD0RJ",
        "colab_type": "text"
      },
      "source": [
        "# Giga coders\n",
        "## Machine learning\n",
        "\n",
        "6 Octubre 2019\n",
        "\n"
      ]
    },
    {
      "cell_type": "markdown",
      "metadata": {
        "id": "r2YH_8TIDxZv",
        "colab_type": "text"
      },
      "source": [
        "\n",
        "\n",
        "> Install Marlo files\n",
        "\n",
        "*   conda create python=3.6 --name ml_env\n",
        "*   conda config --add channels conda-forge\n",
        "*   conda activate ml_env\n",
        "*   conda install -c crowdai malmo\n",
        "*   pip install -U marlo\n",
        "\n",
        "\n",
        "\n",
        "> Test Environment\n",
        "\n",
        "*   python -c \"import marlo\"\n",
        "*   python -c \"from marlo import MalmoPython\"\n",
        "\n",
        "\n",
        "\n",
        "\n",
        "> Run Environment\n",
        "\n",
        "**Windows**\n",
        "*   cd %MALMO_MINECRAFT_ROOT%\n",
        "*   launchClient.bat\n",
        "\n",
        "**Ubuntu**\n",
        "*   $MALMO_MINECRAFT_ROOT/launchClient.sh -port 10000\n",
        "\n",
        "\n",
        "\n"
      ]
    },
    {
      "cell_type": "markdown",
      "metadata": {
        "id": "GJlWGbQBNUMt",
        "colab_type": "text"
      },
      "source": [
        "#### PyCharm: https://www.jetbrains.com/pycharm/download/"
      ]
    },
    {
      "cell_type": "markdown",
      "metadata": {
        "id": "rh0yRP0HMSgx",
        "colab_type": "text"
      },
      "source": [
        "\n",
        "\n",
        "### Run minigame\n",
        "\n",
        "\n"
      ]
    },
    {
      "cell_type": "code",
      "metadata": {
        "id": "KK5Jp2HhMiAq",
        "colab_type": "code",
        "colab": {}
      },
      "source": [
        "import marlo\n",
        "client_pool = [('127.0.0.1', 10000)]\n",
        "join_tokens = marlo.make('MarLo-FindTheGoal-v0',\n",
        "                          params={\n",
        "                            \"client_pool\": client_pool\n",
        "                          })\n",
        "\n",
        "assert len(join_tokens) == 1\n",
        "join_token = join_tokens[0]\n",
        "\n",
        "env = marlo.init(join_token)\n",
        "\n",
        "observation = env.reset()\n",
        "\n",
        "done = False\n",
        "while not done:\n",
        "  _action = env.action_space.sample()\n",
        "  obs, reward, done, info = env.step(_action)\n",
        "  print(\"reward:\", reward)\n",
        "  print(\"done:\", done)\n",
        "  print(\"info\", info)\n",
        "env.close()"
      ],
      "execution_count": 0,
      "outputs": []
    },
    {
      "cell_type": "markdown",
      "metadata": {
        "id": "MAFi0zUgo2nt",
        "colab_type": "text"
      },
      "source": [
        "### Install baselines\n",
        "\n",
        "\n",
        "*   pip install stable-baselines\n",
        "*   pip install baselines\n",
        "\n",
        "https://github.com/openai/baselines\n"
      ]
    },
    {
      "cell_type": "markdown",
      "metadata": {
        "id": "7tNC47uGpGkR",
        "colab_type": "text"
      },
      "source": [
        "### Install gym\n",
        "\n",
        "\n",
        "*   pip install gym==0.7.4\n",
        "\n"
      ]
    },
    {
      "cell_type": "markdown",
      "metadata": {
        "id": "f8rr9ZWarZyP",
        "colab_type": "text"
      },
      "source": [
        "### Install tensorflow\n",
        "\n",
        "\n",
        "*   pip install tensorflow\n",
        "*   conda install -c conda-forge tensorflow\n",
        "\n"
      ]
    },
    {
      "cell_type": "markdown",
      "metadata": {
        "id": "GkJFoWFQ2Mhg",
        "colab_type": "text"
      },
      "source": [
        "## GPU Accelerated Computing with Python\n",
        "\n",
        "https://developer.nvidia.com/how-to-cuda-python"
      ]
    },
    {
      "cell_type": "markdown",
      "metadata": {
        "id": "zi9n34US94kO",
        "colab_type": "text"
      },
      "source": [
        "## DQN "
      ]
    },
    {
      "cell_type": "code",
      "metadata": {
        "id": "68kbMx4Gjv1F",
        "colab_type": "code",
        "colab": {}
      },
      "source": [
        "import marlo\n",
        "from stable_baselines import DQN\n",
        "\n",
        "client_pool = [('127.0.0.1', 10000)]\n",
        "join_tokens = marlo.make('MarLo-FindTheGoal-v0',\n",
        "                          params=dict(\n",
        "                             videoResolution=[120, 120],\n",
        "                         ))\n",
        "\n",
        "assert len(join_tokens) == 1\n",
        "join_token = join_tokens[0]\n",
        "\n",
        "env = marlo.init(join_token)\n",
        "\n",
        "observation = env.reset()\n",
        "model = DQN('MlpPolicy', env, learning_rate=1e-3, prioritized_replay=True, verbose=1)\n",
        "model.learn(total_timesteps=int(50000))\n",
        "\n",
        "observation = env.reset()\n",
        "first_number = int ( input (\"Enter first number\") )\n",
        "done = False\n",
        "while not done:\n",
        "    _action, _states =  model.predict(observation)\n",
        "    obs, reward, done, info = env.step(_action)\n",
        "    print(\"reward:\", reward)\n",
        "    print(\"done:\", done)\n",
        "    print(\"info\", info)\n",
        "env.close()"
      ],
      "execution_count": 0,
      "outputs": []
    },
    {
      "cell_type": "markdown",
      "metadata": {
        "id": "v1g085ii-Eyt",
        "colab_type": "text"
      },
      "source": [
        "## PPO"
      ]
    },
    {
      "cell_type": "code",
      "metadata": {
        "id": "np65YU-u2PZr",
        "colab_type": "code",
        "colab": {}
      },
      "source": [
        "import marlo\n",
        "from stable_baselines.common.policies import MlpPolicy\n",
        "from stable_baselines.common.vec_env import DummyVecEnv\n",
        "from stable_baselines import PPO2\n",
        "\n",
        "client_pool = [('127.0.0.1', 10000)]\n",
        "join_tokens = marlo.make('MarLo-FindTheGoal-v0',\n",
        "                          params=dict(\n",
        "                             videoResolution=[120, 120],\n",
        "                         ))\n",
        "\n",
        "assert len(join_tokens) == 1\n",
        "join_token = join_tokens[0]\n",
        "\n",
        "env = marlo.init(join_token)\n",
        "\n",
        "observation = env.reset()\n",
        "env = DummyVecEnv([lambda: env])\n",
        "model = PPO2('MlpPolicy', env, learning_rate=1e-3, verbose=1)\n",
        "model.learn(total_timesteps=int(10000))\n",
        "model.save(\"train\")\n",
        "observation = env.reset()\n",
        "first_number = int ( input (\"Enter first number\") )\n",
        "done = False\n",
        "while not done:\n",
        "    _action, _states =  model.predict(observation)\n",
        "    obs, reward, done, info = env.step(_action)\n",
        "    print(\"reward:\", reward)\n",
        "    print(\"done:\", done)\n",
        "    print(\"info\", info)\n",
        "env.close()"
      ],
      "execution_count": 0,
      "outputs": []
    },
    {
      "cell_type": "code",
      "metadata": {
        "id": "93L3SHNp-LER",
        "colab_type": "code",
        "colab": {}
      },
      "source": [
        "import marlo\n",
        "from stable_baselines.common.policies import MlpPolicy\n",
        "from stable_baselines.common.vec_env import DummyVecEnv\n",
        "from stable_baselines import PPO2\n",
        "\n",
        "client_pool = [('127.0.0.1', 10000)]\n",
        "join_tokens = marlo.make('MarLo-FindTheGoal-v0',\n",
        "                          params=dict(\n",
        "                             videoResolution=[120, 120],\n",
        "                         ))\n",
        "\n",
        "assert len(join_tokens) == 1\n",
        "join_token = join_tokens[0]\n",
        "\n",
        "env = marlo.init(join_token)\n",
        "\n",
        "model.load(\"train\")\n",
        "observation = env.reset()\n",
        "first_number = int ( input (\"Enter first number\") )\n",
        "done = False\n",
        "while not done:\n",
        "    _action, _states =  model.predict(observation)\n",
        "    obs, reward, done, info = env.step(_action)\n",
        "    print(\"reward:\", reward)\n",
        "    print(\"done:\", done)\n",
        "    print(\"info\", info)\n",
        "env.close()"
      ],
      "execution_count": 0,
      "outputs": []
    }
  ]
}